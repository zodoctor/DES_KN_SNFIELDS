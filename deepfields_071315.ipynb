{
 "cells": [
  {
   "cell_type": "markdown",
   "metadata": {},
   "source": [
    "# Some First-Pass Plots\n",
    "##### Zoheyr Doctor, 07/14/15"
   ]
  },
  {
   "cell_type": "markdown",
   "metadata": {},
   "source": [
    "Import functions and settings:"
   ]
  },
  {
   "cell_type": "code",
   "execution_count": 2,
   "metadata": {
    "collapsed": true
   },
   "outputs": [],
   "source": [
    "import numpy as np\n",
    "from glob import glob\n",
    "\n",
    "import des_utils\n",
    "import des_io\n",
    "\n",
    "import matplotlib.pyplot as plt\n",
    "%matplotlib inline\n",
    "%config InlineBackEnd.figure_format='retina'"
   ]
  },
  {
   "cell_type": "markdown",
   "metadata": {},
   "source": [
    "Grab the data from the text files and create necessary selectors.  Loop over the simulation files and the data files.  To qualify as a potential trigger observation (PTO), an observation must satisfy:\n",
    "##### 1) 30.5 < zp < 34.0\n",
    "#####2) -.5 < zp_fwhm_upper < 2.0\n",
    "#####3) photprob > 5\n",
    "#####4) photflag > 1 (ie. it's 4096)\n",
    "To get a full-blown trigger, i and z PTOs must satisfy:\n",
    "#####1) i and z PTO must be on the same night for shallow fields.  For deep fields allow the PTOs to be separated by max 1 night.\n",
    "#####2) For simulated data, at least one of the two PTOs must have an SNR > 5 "
   ]
  },
  {
   "cell_type": "code",
   "execution_count": 3,
   "metadata": {
    "collapsed": false
   },
   "outputs": [
    {
     "name": "stderr",
     "output_type": "stream",
     "text": [
      "des_utils.py:267: FutureWarning: comparison to `None` will result in an elementwise object comparison in the future.\n",
      "  if SNRsel1 == None:\n",
      "des_utils.py:289: FutureWarning: comparison to `None` will result in an elementwise object comparison in the future.\n",
      "  if SNRsel1 == None:\n",
      "/Users/Zoheyr/anaconda/lib/python2.7/site-packages/IPython/kernel/__main__.py:31: RuntimeWarning: invalid value encountered in log\n"
     ]
    },
    {
     "data": {
      "image/png": "[encoded data removed]",
      "text/plain": [
       "<matplotlib.figure.Figure at 0x106508790>"
      ]
     },
     "metadata": {},
     "output_type": "display_data"
    }
   ],
   "source": [
    "filetypes = ['sim','data']\n",
    "fieldtypes = ['shallow','deep']\n",
    "dict1 = dict()\n",
    "for filetype in filetypes:\n",
    "    if filetype == 'sim':\n",
    "        files = glob(\"../ZD_KNDES_TEST/*DAT\")\n",
    "    elif filetype == 'data':\n",
    "        files = glob(\"../DESY1_numepoch1_iz_real_text/*.dat\")\n",
    "    thelist,theheaders = des_utils.get_all_obs(files)\n",
    "    shallow_list,deep_list = des_utils.get_depth_lists(thelist)\n",
    "    for dnum,depth_list in enumerate([shallow_list,deep_list]):\n",
    "        zbandinfo = des_utils.get_band_info(depth_list,'z')\n",
    "        ibandinfo = des_utils.get_band_info(depth_list,'i')\n",
    "        if filetype == 'sim':\n",
    "            zSNR_sel = des_utils.get_SNR_selector(zbandinfo)\n",
    "            iSNR_sel = des_utils.get_SNR_selector(ibandinfo)\n",
    "            if fieldtypes[dnum] == 'shallow':\n",
    "                zsellist,isellist,cnites = des_utils.common_trignite_selector(zbandinfo,ibandinfo,zSNR_sel,iSNR_sel,1,0,1)\n",
    "            elif fieldtypes[dnum] == 'deep':\n",
    "                zsellist,isellist,cnites = des_utils.common_trignite_selector(zbandinfo,ibandinfo,zSNR_sel,iSNR_sel,1,1,1)\n",
    "        elif filetype =='data':\n",
    "            if fieldtypes[dnum] == 'shallow':\n",
    "                zsellist,isellist,cnites = des_utils.common_trignite_selector(zbandinfo,ibandinfo,None,None,1,0,0)\n",
    "            elif fieldtypes[dnum] == 'deep':\n",
    "                zsellist,isellist,cnites = des_utils.common_trignite_selector(zbandinfo,ibandinfo,None,None,1,1,0)\n",
    "        detection_flags_list = des_utils.get_detection_flags_list(cnites,zbandinfo,ibandinfo)\n",
    "        colors = []\n",
    "        for i in range(0,len(zbandinfo)):\n",
    "            if np.any(zsellist[i]):\n",
    "                imag = -2.5*np.log(ibandinfo[i][2][isellist[i]][0])\n",
    "                zmag = -2.5*np.log(zbandinfo[i][2][zsellist[i]][0])\n",
    "                colors.append(imag-zmag)\n",
    "        if filetype == 'sim':\n",
    "            if dnum == 0:\n",
    "                plt.subplot(211)\n",
    "                plt.hist(colors,range=(-2,5),bins=100,alpha=0.5,color='r');\n",
    "                plt.title('shallow')\n",
    "            elif dnum == 1:\n",
    "                plt.subplot(212) \n",
    "                plt.hist(colors,range=(-2,5),bins=100,alpha=0.5,color='r');\n",
    "                plt.title('deep')\n",
    "        if filetype =='data':\n",
    "            if dnum == 0:\n",
    "                plt.subplot(211)\n",
    "                plt.hist(colors,range=(-2,5),bins=100,alpha=0.5);\n",
    "            elif dnum == 1:\n",
    "                plt.subplot(212)\n",
    "                plt.hist(colors,range=(-2,5),bins=100,alpha=0.5);\n"
   ]
  },
  {
   "cell_type": "code",
   "execution_count": 7,
   "metadata": {
    "collapsed": false
   },
   "outputs": [
    {
     "ename": "AttributeError",
     "evalue": "'numpy.ndarray' object has no attribute 'dropna'",
     "output_type": "error",
     "traceback": [
      "\u001b[0;31m---------------------------------------------------------------------------\u001b[0m",
      "\u001b[0;31mAttributeError\u001b[0m                            Traceback (most recent call last)",
      "\u001b[0;32m<ipython-input-7-8bfaa4444819>\u001b[0m in \u001b[0;36m<module>\u001b[0;34m()\u001b[0m\n\u001b[0;32m----> 1\u001b[0;31m \u001b[0mcolors\u001b[0m\u001b[0;34m==\u001b[0m\u001b[0mcolors\u001b[0m\u001b[0;34m.\u001b[0m\u001b[0mdropna\u001b[0m\u001b[0;34m(\u001b[0m\u001b[0;34m)\u001b[0m\u001b[0;34m\u001b[0m\u001b[0m\n\u001b[0m",
      "\u001b[0;31mAttributeError\u001b[0m: 'numpy.ndarray' object has no attribute 'dropna'"
     ]
    }
   ],
   "source": [
    "colors==colors.dropna()"
   ]
  },
  {
   "cell_type": "code",
   "execution_count": 6,
   "metadata": {
    "collapsed": false
   },
   "outputs": [
    {
     "ename": "AttributeError",
     "evalue": "'list' object has no attribute 'dropna'",
     "output_type": "error",
     "traceback": [
      "\u001b[0;31m---------------------------------------------------------------------------\u001b[0m",
      "\u001b[0;31mAttributeError\u001b[0m                            Traceback (most recent call last)",
      "\u001b[0;32m<ipython-input-6-95fb19807b75>\u001b[0m in \u001b[0;36m<module>\u001b[0;34m()\u001b[0m\n\u001b[0;32m----> 1\u001b[0;31m \u001b[0mplt\u001b[0m\u001b[0;34m.\u001b[0m\u001b[0mhist\u001b[0m\u001b[0;34m(\u001b[0m\u001b[0mcolors\u001b[0m\u001b[0;34m.\u001b[0m\u001b[0mdropna\u001b[0m\u001b[0;34m(\u001b[0m\u001b[0;34m)\u001b[0m\u001b[0;34m)\u001b[0m\u001b[0;34m\u001b[0m\u001b[0m\n\u001b[0m",
      "\u001b[0;31mAttributeError\u001b[0m: 'list' object has no attribute 'dropna'"
     ]
    }
   ],
   "source": [
    "plt.hist(colors.dropna())"
   ]
  },
  {
   "cell_type": "code",
   "execution_count": null,
   "metadata": {
    "collapsed": true
   },
   "outputs": [],
   "source": []
  }
 ],
 "metadata": {
  "kernelspec": {
   "display_name": "Python 2",
   "language": "python",
   "name": "python2"
  },
  "language_info": {
   "codemirror_mode": {
    "name": "ipython",
    "version": 2
   },
   "file_extension": ".py",
   "mimetype": "text/x-python",
   "name": "python",
   "nbconvert_exporter": "python",
   "pygments_lexer": "ipython2",
   "version": "2.7.9"
  }
 },
 "nbformat": 4,
 "nbformat_minor": 0
}
