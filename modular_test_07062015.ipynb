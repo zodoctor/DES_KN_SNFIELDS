{
 "cells": [
  {
   "cell_type": "code",
   "execution_count": 1,
   "metadata": {
    "collapsed": false
   },
   "outputs": [],
   "source": [
    "import numpy as np\n",
    "from glob import glob\n",
    "\n",
    "import des_utils\n",
    "import des_io\n",
    "\n",
    "import matplotlib.pyplot as plt\n",
    "%matplotlib inline\n",
    "%config InlineBackEnd.figure_format='retina'"
   ]
  },
  {
   "cell_type": "code",
   "execution_count": 2,
   "metadata": {
    "collapsed": false
   },
   "outputs": [],
   "source": [
    "sim_files = glob(\"../ZD_KNDES_TEST/*DAT\")\n",
    "thelist,theheaders = des_utils.get_all_obs(sim_files)"
   ]
  },
  {
   "cell_type": "code",
   "execution_count": 3,
   "metadata": {
    "collapsed": true
   },
   "outputs": [],
   "source": [
    "shallow_list,deep_list = des_utils.get_depth_lists(thelist)"
   ]
  },
  {
   "cell_type": "code",
   "execution_count": 4,
   "metadata": {
    "collapsed": true
   },
   "outputs": [],
   "source": [
    "zbandinfo = des_utils.get_band_info(shallow_list,'z')\n",
    "ibandinfo = des_utils.get_band_info(shallow_list,'i')"
   ]
  },
  {
   "cell_type": "code",
   "execution_count": 5,
   "metadata": {
    "collapsed": false
   },
   "outputs": [],
   "source": [
    "ztrig = des_utils.trigger_selector(zbandinfo)\n",
    "itrig = des_utils.trigger_selector(ibandinfo)"
   ]
  },
  {
   "cell_type": "code",
   "execution_count": 6,
   "metadata": {
    "collapsed": false
   },
   "outputs": [],
   "source": [
    "zsellist,isellist = des_utils.common_trignite_selector(zbandinfo,ibandinfo)"
   ]
  },
  {
   "cell_type": "code",
   "execution_count": 7,
   "metadata": {
    "collapsed": false
   },
   "outputs": [],
   "source": [
    "zSNR_sel = des_utils.get_SNR_selector(zbandinfo)\n",
    "iSNR_sel = des_utils.get_SNR_selector(ibandinfo)"
   ]
  },
  {
   "cell_type": "code",
   "execution_count": 8,
   "metadata": {
    "collapsed": false
   },
   "outputs": [
    {
     "name": "stdout",
     "output_type": "stream",
     "text": [
      "679\n"
     ]
    }
   ],
   "source": [
    "trig_flags_list,anytrigs = des_utils.get_trig_flags_list(ztrig,itrig,zsellist,isellist,zSNR_sel,iSNR_sel)\n",
    "print np.sum(anytrigs)"
   ]
  },
  {
   "cell_type": "code",
   "execution_count": 9,
   "metadata": {
    "collapsed": false
   },
   "outputs": [],
   "source": [
    "MJDtriglist = des_utils.get_trig_MJD_list(zbandinfo,trig_flags_list,zsellist)\n",
    "detection_flags_list = des_utils.get_detection_flags_list(MJDtriglist,zbandinfo,ibandinfo)"
   ]
  },
  {
   "cell_type": "code",
   "execution_count": 10,
   "metadata": {
    "collapsed": false
   },
   "outputs": [],
   "source": [
    "sim_triggers, sim_colors, sim_ifluxes,simdet,SNIDset,deltaT = des_utils.extract_colors(sim_files)"
   ]
  },
  {
   "cell_type": "code",
   "execution_count": 11,
   "metadata": {
    "collapsed": false
   },
   "outputs": [
    {
     "name": "stdout",
     "output_type": "stream",
     "text": [
      "[] 0\n",
      "[] 0\n"
     ]
    }
   ],
   "source": [
    "SNIDset2 = set()\n",
    "for i in range(0,len(detection_flags_list)):\n",
    "    if detection_flags_list[i] and anytrigs[i]:\n",
    "        SNIDset2.add(theheaders[i]['SNID'])\n",
    "        if not (theheaders[i]['SNID'] in SNIDset):\n",
    "            print i\n",
    "            print theheaders[i]['SNID']\n",
    "            print \"zbandinfo: \", zbandinfo[i]\n",
    "            print \"ibandinfo: \", ibandinfo[i]\n",
    "            print \"MJDtriglist: \", MJDtriglist[i]\n",
    "            \n",
    "print list(set(SNIDset)-set(SNIDset2)), len(list(set(SNIDset)-set(SNIDset2)))\n",
    "print list(set(SNIDset2)-set(SNIDset)), len(list(set(SNIDset2)-set(SNIDset)))"
   ]
  },
  {
   "cell_type": "code",
   "execution_count": 12,
   "metadata": {
    "collapsed": false
   },
   "outputs": [
    {
     "name": "stdout",
     "output_type": "stream",
     "text": [
      "9012\n"
     ]
    }
   ],
   "source": [
    "print theheaders[900]['SNID']"
   ]
  },
  {
   "cell_type": "code",
   "execution_count": 13,
   "metadata": {
    "collapsed": false
   },
   "outputs": [
    {
     "name": "stdout",
     "output_type": "stream",
     "text": [
      "True\n"
     ]
    }
   ],
   "source": [
    "print detection_flags_list[900]"
   ]
  },
  {
   "cell_type": "code",
   "execution_count": 14,
   "metadata": {
    "collapsed": false
   },
   "outputs": [
    {
     "name": "stdout",
     "output_type": "stream",
     "text": [
      "[False False False False False False False False False False False False\n",
      " False False False]\n"
     ]
    }
   ],
   "source": [
    "print zSNR_sel[900]"
   ]
  },
  {
   "cell_type": "code",
   "execution_count": 15,
   "metadata": {
    "collapsed": false
   },
   "outputs": [
    {
     "data": {
      "image/png": "[encoded data removed]",
      "text/plain": [
       "<matplotlib.figure.Figure at 0x106980050>"
      ]
     },
     "metadata": {},
     "output_type": "display_data"
    }
   ],
   "source": [
    "colors = []\n",
    "for i in range(0,len(trig_flags_list)):\n",
    "    if anytrigs[i]:\n",
    "        imag = -2.5*np.log(ibandinfo[i][2][itrig[i] & isellist[i]][0])\n",
    "        zmag = -2.5*np.log(zbandinfo[i][2][ztrig[i] & zsellist[i]][0])\n",
    "        colors.append(imag-zmag)\n",
    "plt.hist(colors,bins=100);"
   ]
  },
  {
   "cell_type": "code",
   "execution_count": null,
   "metadata": {
    "collapsed": true
   },
   "outputs": [],
   "source": []
  }
 ],
 "metadata": {
  "kernelspec": {
   "display_name": "Python 2",
   "language": "python",
   "name": "python2"
  },
  "language_info": {
   "codemirror_mode": {
    "name": "ipython",
    "version": 2
   },
   "file_extension": ".py",
   "mimetype": "text/x-python",
   "name": "python",
   "nbconvert_exporter": "python",
   "pygments_lexer": "ipython2",
   "version": "2.7.9"
  }
 },
 "nbformat": 4,
 "nbformat_minor": 0
}
