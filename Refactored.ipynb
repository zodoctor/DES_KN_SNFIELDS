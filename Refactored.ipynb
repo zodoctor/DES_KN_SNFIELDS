{
 "cells": [
  {
   "cell_type": "code",
   "execution_count": 1,
   "metadata": {
    "collapsed": false
   },
   "outputs": [],
   "source": [
    "import numpy as np\n",
    "from glob import glob\n",
    "\n",
    "import des_utils\n",
    "import des_io\n",
    "\n",
    "import matplotlib.pyplot as plt\n",
    "%matplotlib inline\n",
    "%config InlineBackEnd.figure_format='retina'"
   ]
  },
  {
   "cell_type": "code",
   "execution_count": 2,
   "metadata": {
    "collapsed": false
   },
   "outputs": [
    {
     "data": {
      "text/plain": [
       "<module 'des_utils' from 'des_utils.pyc'>"
      ]
     },
     "execution_count": 2,
     "metadata": {},
     "output_type": "execute_result"
    }
   ],
   "source": [
    "reload(des_utils)"
   ]
  },
  {
   "cell_type": "code",
   "execution_count": 3,
   "metadata": {
    "collapsed": false,
    "scrolled": true
   },
   "outputs": [
    {
     "name": "stderr",
     "output_type": "stream",
     "text": [
      "des_utils.py:64: RuntimeWarning: invalid value encountered in log10\n",
      "  colors[i] = -2.5*(np.log10(iflux1)-np.log10(zflux1))\n"
     ]
    }
   ],
   "source": [
    "sim_files = glob(\"../ZD_KNDES_TEST/*DAT\")\n",
    "sim_triggers, sim_colors, sim_ifluxes,simdets,SNIDset = des_utils.extract_colors(sim_files)"
   ]
  },
  {
   "cell_type": "code",
   "execution_count": 4,
   "metadata": {
    "collapsed": false
   },
   "outputs": [
    {
     "name": "stdout",
     "output_type": "stream",
     "text": [
      "['9617', '4393', '199', '2472', '7285', '9090', '5033', '9360', '4628', '4169', '6176', '7912', '5703', '4343', '1712', '2881', '3553', '4940', '6786', '3123', '2224', '2079', '4907', '4384', '939', '1758', '1025', '6825', '1738', '1267', '2642', '565', '8200', '1318', '9664', '6911', '3155', '9765', '7786', '6528', '269', '7648', '223', '1069', '8957', '5089', '5181', '1046', '782', '1189', '3012', '7587', '1126', '2670', '2145', '7180', '1479', '1380', '8833', '3075']\n",
      "['4310', '8388', '5178', '4325', '392', '238', '3539', '87', '5385', '7619', '1427', '4383', '2888', '7472', '5966', '5029', '583', '3873', '5735', '4441', '8249', '3074', '8554', '4111', '1912', '5514', '7714', '1609', '4529', '4434', '5634', '1062', '6358', '1606']\n"
     ]
    }
   ],
   "source": [
    "f = open(\"../OUT_KNANA_SIM.KNTABLE.TEXT\",\"r\")\n",
    "SNset2=set()\n",
    "for line in f:\n",
    "    linelist = line.split()\n",
    "    if (not linelist):\n",
    "        continue\n",
    "    elif linelist[0] == 'SN:':\n",
    "        SNset2.add(linelist[1])    \n",
    "    \n",
    "print list(set(SNIDset)-set(SNset2))\n",
    "print list(set(SNset2)-set(SNIDset))"
   ]
  },
  {
   "cell_type": "code",
   "execution_count": 5,
   "metadata": {
    "collapsed": false
   },
   "outputs": [
    {
     "name": "stdout",
     "output_type": "stream",
     "text": [
      "596 triggers out of 1001 files\n",
      "199\n"
     ]
    }
   ],
   "source": [
    "print \"{} triggers out of {} files\".format(np.sum(sim_triggers), len(sim_triggers))\n",
    "print simdets"
   ]
  },
  {
   "cell_type": "code",
   "execution_count": 6,
   "metadata": {
    "collapsed": false
   },
   "outputs": [
    {
     "name": "stdout",
     "output_type": "stream",
     "text": [
      "-170.1494 1826.2722\n"
     ]
    },
    {
     "data": {
      "image/png": "[encoded data removed]",
      "text/plain": [
       "<matplotlib.figure.Figure at 0x1060e3e90>"
      ]
     },
     "metadata": {},
     "output_type": "display_data"
    }
   ],
   "source": [
    "plt.scatter(sim_ifluxes[sim_triggers], sim_colors[sim_triggers], alpha=0.5, color='r')\n",
    "print sim_ifluxes[sim_triggers].min(), sim_ifluxes[sim_triggers].max()\n",
    "xlow, xhigh = plt.xlim()"
   ]
  },
  {
   "cell_type": "code",
   "execution_count": 7,
   "metadata": {
    "collapsed": false
   },
   "outputs": [
    {
     "name": "stderr",
     "output_type": "stream",
     "text": [
      "des_utils.py:45: RuntimeWarning: invalid value encountered in greater_equal\n",
      "  iSNRpass = iSNR >= 5\n"
     ]
    }
   ],
   "source": [
    "data_files = glob(\"../DESY1_numepoch1_iz_real_text/*.dat\")\n",
    "data_triggers, data_colors, data_ifluxes,data_dets,SNIDset = des_utils.extract_colors(data_files)"
   ]
  },
  {
   "cell_type": "code",
   "execution_count": 8,
   "metadata": {
    "collapsed": false
   },
   "outputs": [
    {
     "name": "stdout",
     "output_type": "stream",
     "text": [
      "65\n",
      "26\n"
     ]
    }
   ],
   "source": [
    "print sum(data_triggers)\n",
    "print data_dets"
   ]
  },
  {
   "cell_type": "code",
   "execution_count": 9,
   "metadata": {
    "collapsed": false
   },
   "outputs": [
    {
     "data": {
      "text/plain": [
       "(-1, 2)"
      ]
     },
     "execution_count": 9,
     "metadata": {},
     "output_type": "execute_result"
    },
    {
     "data": {
      "image/png": "[encoded data removed]",
      "text/plain": [
       "<matplotlib.figure.Figure at 0x1061d49d0>"
      ]
     },
     "metadata": {},
     "output_type": "display_data"
    }
   ],
   "source": [
    "plt.scatter(data_ifluxes[data_triggers], data_colors[data_triggers], alpha=0.5)\n",
    "plt.xlim(-500, 500)\n",
    "plt.ylim(-1, 2)"
   ]
  },
  {
   "cell_type": "code",
   "execution_count": 16,
   "metadata": {
    "collapsed": false
   },
   "outputs": [
    {
     "data": {
      "text/plain": [
       "<matplotlib.text.Text at 0x106325d50>"
      ]
     },
     "execution_count": 16,
     "metadata": {},
     "output_type": "execute_result"
    },
    {
     "data": {
      "image/png": "[encoded data removed]",
      "text/plain": [
       "<matplotlib.figure.Figure at 0x1064d6e10>"
      ]
     },
     "metadata": {},
     "output_type": "display_data"
    }
   ],
   "source": [
    "plt.scatter(data_ifluxes[data_triggers], data_colors[data_triggers], alpha=0.1)\n",
    "plt.scatter(sim_ifluxes[sim_triggers], sim_colors[sim_triggers], alpha=0.05, color='r')\n",
    "plt.xlim(-500, 500)\n",
    "plt.ylim(-1, 2)\n",
    "plt.title(\"Red: Simulated Triggers, Blue: Real Data Triggers\")\n",
    "plt.xlabel(\"last obs iflux - first obs iflux\")\n",
    "plt.ylabel(\"i-z color\")"
   ]
  },
  {
   "cell_type": "code",
   "execution_count": null,
   "metadata": {
    "collapsed": true
   },
   "outputs": [],
   "source": []
  }
 ],
 "metadata": {
  "kernelspec": {
   "display_name": "Python 2",
   "language": "python",
   "name": "python2"
  },
  "language_info": {
   "codemirror_mode": {
    "name": "ipython",
    "version": 2
   },
   "file_extension": ".py",
   "mimetype": "text/x-python",
   "name": "python",
   "nbconvert_exporter": "python",
   "pygments_lexer": "ipython2",
   "version": "2.7.9"
  }
 },
 "nbformat": 4,
 "nbformat_minor": 0
}
