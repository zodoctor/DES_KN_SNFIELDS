{
 "cells": [
  {
   "cell_type": "markdown",
   "metadata": {},
   "source": [
    "# Some First-Pass Plots\n",
    "##### Zoheyr Doctor, 07/15/15"
   ]
  },
  {
   "cell_type": "markdown",
   "metadata": {},
   "source": [
    "Import functions and settings:"
   ]
  },
  {
   "cell_type": "code",
   "execution_count": 1,
   "metadata": {
    "collapsed": true
   },
   "outputs": [],
   "source": [
    "import numpy as np\n",
    "from glob import glob\n",
    "\n",
    "import des_utils\n",
    "import des_io\n",
    "import trigColors\n",
    "import matplotlib.pyplot as plt\n",
    "#%matplotlib inline\n",
    "%config InlineBackEnd.figure_format='retina'"
   ]
  },
  {
   "cell_type": "markdown",
   "metadata": {},
   "source": [
    "Grab the data from the text files and create necessary selectors.  Loop over the simulation files and the data files.  To qualify as a potential trigger observation (PTO), an observation must satisfy:\n",
    "##### 1) 30.5 < zp < 34.0\n",
    "#####2) -.5 < zp_fwhm_upper < 2.0\n",
    "#####3) photprob > 0.5\n",
    "#####4) photflag > 1 (ie. it's 4096)\n",
    "To get a full-blown trigger, i and z PTOs must satisfy:\n",
    "#####1) i and z PTO must be on the same night for shallow fields.  For deep fields allow the PTOs to be separated by max 1 night.\n",
    "#####2) For simulated data, at least one of the two PTOs must have an SNR > 5 \n",
    "As a first pass, we'll require that i and z band observations exist exactly 7 days after a trigger for a \"detection\""
   ]
  },
  {
   "cell_type": "code",
   "execution_count": 2,
   "metadata": {
    "collapsed": false
   },
   "outputs": [
    {
     "name": "stderr",
     "output_type": "stream",
     "text": [
      "des_utils.py:284: FutureWarning: comparison to `None` will result in an elementwise object comparison in the future.\n",
      "  if SNRsel1 == None:\n",
      "des_utils.py:306: FutureWarning: comparison to `None` will result in an elementwise object comparison in the future.\n",
      "  if SNRsel1 == None:\n",
      "/usr/local/lib/python2.7/site-packages/numpy/core/_methods.py:59: RuntimeWarning: Mean of empty slice.\n",
      "  warnings.warn(\"Mean of empty slice.\", RuntimeWarning)\n",
      "/usr/local/lib/python2.7/site-packages/numpy/core/_methods.py:71: RuntimeWarning: invalid value encountered in double_scalars\n",
      "  ret = ret.dtype.type(ret / rcount)\n",
      "des_utils.py:88: RuntimeWarning: invalid value encountered in greater_equal\n",
      "  SNR_selector[i] = info[3] >= SNRmin\n"
     ]
    }
   ],
   "source": [
    "filetypes = ['sim','data']\n",
    "paths = [\"data/ZD_KNDES_TEST/*DAT\",\"data/DESY1_numepoch1_iz_real_text/*.dat\"]\n",
    "fieldtypes = ['shallow','deep']\n",
    "dict1 = dict()\n",
    "for f,filetype in enumerate(filetypes):  \n",
    "    for n,fieldtype in enumerate(fieldtypes):\n",
    "        dict1[filetype+'_'+fieldtype] = trigColors.trigColors(paths[f],filetype,fieldtype)\n",
    "        dict1[filetype+'_'+fieldtype]['detections'] = des_utils.get_detection_flags_list(dict1[filetype+'_'+fieldtype]['cnites'],dict1[filetype+'_'+fieldtype]['zbandinfo'],dict1[filetype+'_'+fieldtype]['ibandinfo'])"
   ]
  },
  {
   "cell_type": "markdown",
   "metadata": {
    "collapsed": false
   },
   "source": [
    "Let's plot the colors of data versus the sims for the two fields and count the number of triggers and detections"
   ]
  },
  {
   "cell_type": "code",
   "execution_count": 3,
   "metadata": {
    "collapsed": false
   },
   "outputs": [
    {
     "name": "stdout",
     "output_type": "stream",
     "text": [
      "sim shallow\n",
      "number of objects:  1001\n",
      "number of triggers:  679\n",
      "number of detections:  197\n",
      "sim deep\n",
      "number of objects:  1001\n",
      "number of triggers:  307\n",
      "number of detections:  43\n",
      "data shallow\n",
      "number of objects:  3637\n",
      "number of triggers:  1720\n",
      "number of detections:  923\n",
      "data deep\n",
      "number of objects:  3637\n",
      "number of triggers:  544\n",
      "number of detections:  0\n"
     ]
    }
   ],
   "source": [
    "plt.figure();\n",
    "sim_deep_colors = dict1['sim_deep']['colors'][dict1['sim_deep']['trigs'].astype('bool')]\n",
    "data_deep_colors = dict1['data_deep']['colors'][dict1['data_deep']['trigs'].astype('bool')]\n",
    "sim_shallow_colors = dict1['sim_shallow']['colors'][dict1['sim_shallow']['trigs'].astype('bool')]\n",
    "data_shallow_colors = dict1['data_shallow']['colors'][dict1['data_shallow']['trigs'].astype('bool')]\n",
    "plt.hist(sim_deep_colors,bins=100,alpha=0.3,color='r',range=(-2,5));\n",
    "plt.hist(data_deep_colors,bins=100,alpha=0.3,color='b',range=(-2,5));\n",
    "plt.ylabel('number of triggers')\n",
    "plt.xlabel('i-z color')\n",
    "plt.title('deep fields');\n",
    "plt.legend(['sims','real data']);\n",
    "plt.figure();\n",
    "plt.hist(sim_shallow_colors,bins=100,alpha=0.3,color='r',range=(-2,5));\n",
    "plt.hist(data_shallow_colors,bins=100,alpha=0.3,color='b',range=(-2,5));\n",
    "plt.ylabel('number of triggers')\n",
    "plt.xlabel('i-z color')\n",
    "plt.title('shallow fields');\n",
    "plt.legend(['sims','real data']);\n",
    "for f,filetype in enumerate(filetypes):  \n",
    "    for n,fieldtype in enumerate(fieldtypes):\n",
    "        print filetype, fieldtype\n",
    "        print 'number of objects: ', len(dict1[filetype+'_'+fieldtype]['zbandinfo'])\n",
    "        print 'number of triggers: ', np.sum(dict1[filetype+'_'+fieldtype]['trigs'])\n",
    "        #count = 0\n",
    "        #for i in range(0,len((dict1[filetype+'_'+fieldtype]['trigs']))):\n",
    "        #    if dict1[filetype+'_'+fieldtype]['trigs'][i] and dict1[filetype+'_'+fieldtype]['detections'][i]:\n",
    "        #        count = count+1\n",
    "        dets = np.sum(dict1[filetype+'_'+fieldtype]['trigs'] & dict1[filetype+'_'+fieldtype]['detections'])\n",
    "        print 'number of detections: ', dets"
   ]
  },
  {
   "cell_type": "markdown",
   "metadata": {},
   "source": [
    "## Redshift Cut"
   ]
  },
  {
   "cell_type": "markdown",
   "metadata": {
    "collapsed": true
   },
   "source": [
    "Now we'll perform a first cut.  We want to remove objects associated with galaxies that are too far away.  Let's cut out everything with photoZ > 0.1"
   ]
  },
  {
   "cell_type": "code",
   "execution_count": 4,
   "metadata": {
    "collapsed": false
   },
   "outputs": [
    {
     "name": "stdout",
     "output_type": "stream",
     "text": [
      "sim shallow\n",
      "number of objects:  1001\n",
      "number of triggers:  679\n",
      "number of detections:  197\n",
      "sim deep\n",
      "number of objects:  1001\n",
      "number of triggers:  307\n",
      "number of detections:  43\n",
      "data shallow\n",
      "number of objects:  3637\n",
      "number of triggers:  748\n",
      "number of detections:  401\n",
      "data deep\n",
      "number of objects:  3637\n",
      "number of triggers:  234\n",
      "number of detections:  0\n"
     ]
    }
   ],
   "source": [
    "sim_deep_colors = dict1['sim_deep']['colors'][dict1['sim_deep']['trigs'].astype('bool') & # only objects that triggered\n",
    "                                              (~dict1['sim_deep']['photoZcutsel'])] # only objects that have photoZ < .1\n",
    "data_deep_colors = dict1['data_deep']['colors'][dict1['data_deep']['trigs'].astype('bool') & \n",
    "                                                (~dict1['data_deep']['photoZcutsel'])]\n",
    "sim_shallow_colors = dict1['sim_shallow']['colors'][dict1['sim_shallow']['trigs'].astype('bool') & \n",
    "                                                    (~dict1['sim_shallow']['photoZcutsel'])]\n",
    "data_shallow_colors = dict1['data_shallow']['colors'][dict1['data_shallow']['trigs'].astype('bool')& \n",
    "                                                      (~dict1['data_shallow']['photoZcutsel'])]\n",
    "plt.figure();\n",
    "plt.hist(sim_deep_colors,bins=100,alpha=0.3,color='r',range=(-2,5));\n",
    "plt.hist(data_deep_colors,bins=100,alpha=0.3,color='b',range=(-2,5));\n",
    "plt.ylabel('number of triggers')\n",
    "plt.xlabel('i-z color')\n",
    "plt.title('deep fields');\n",
    "plt.legend(['sims','real data']);\n",
    "plt.figure();\n",
    "plt.hist(sim_shallow_colors,bins=100,alpha=0.3,color='r',range=(-2,5));\n",
    "plt.hist(data_shallow_colors,bins=100,alpha=0.3,color='b',range=(-2,5));\n",
    "plt.ylabel('number of triggers')\n",
    "plt.xlabel('i-z color')\n",
    "plt.title('shallow fields');\n",
    "plt.legend(['sims','real data']);\n",
    "for f,filetype in enumerate(filetypes):  \n",
    "    for n,fieldtype in enumerate(fieldtypes):\n",
    "        print filetype, fieldtype\n",
    "        print 'number of objects: ', len(dict1[filetype+'_'+fieldtype]['zbandinfo'])\n",
    "        print 'number of triggers: ', np.sum(dict1[filetype+'_'+fieldtype]['trigs'].astype('bool') & ~dict1[filetype+'_'+fieldtype]['photoZcutsel'])\n",
    "        count = np.sum(dict1[filetype+'_'+fieldtype]['trigs'] & dict1[filetype+'_'+fieldtype]['detections'] & ~dict1[filetype+'_'+fieldtype]['photoZcutsel'])\n",
    "        print 'number of detections: ', count"
   ]
  },
  {
   "cell_type": "markdown",
   "metadata": {},
   "source": [
    "## Long-Timescale Cut"
   ]
  },
  {
   "cell_type": "markdown",
   "metadata": {},
   "source": [
    "Let's look at the maximum time separation between triggers for each object.  Since KN have shorter timescales than SN, we should be able to cut things that have triggers that are sufficiently spaced in time.  First we get the list of maximum nites between triggers:"
   ]
  },
  {
   "cell_type": "code",
   "execution_count": 7,
   "metadata": {
    "collapsed": false
   },
   "outputs": [],
   "source": [
    "for f,filetype in enumerate(filetypes):  \n",
    "    for n,fieldtype in enumerate(fieldtypes):\n",
    "        nitediff = np.zeros(len(dict1[filetype+'_'+fieldtype]['cnites']))\n",
    "        #multitrig = np.zeros(len(dict1[filetype+'_'+fieldtype]['cnites']),dtype = 'bool')\n",
    "        for i in range(0,len(dict1[filetype+'_'+fieldtype]['cnites'])):\n",
    "            if dict1[filetype+'_'+fieldtype]['cnites'][i].size == 0:\n",
    "                nitediff[i] = -1\n",
    "            else:\n",
    "                nitediff[i] = dict1[filetype+'_'+fieldtype]['cnites'][i].max() - dict1[filetype+'_'+fieldtype]['cnites'][i].min()\n",
    "            #multitrig[i] = nitediff[i] <= 10 \n",
    "        dict1[filetype+'_'+fieldtype]['nitediff'] = nitediff\n",
    "        #dict1[filetype+'_'+fieldtype]['multitrig'] = multitrig"
   ]
  },
  {
   "cell_type": "markdown",
   "metadata": {},
   "source": [
    "Now let's plot histograms of the timescales"
   ]
  },
  {
   "cell_type": "code",
   "execution_count": 8,
   "metadata": {
    "collapsed": false
   },
   "outputs": [
    {
     "name": "stdout",
     "output_type": "stream",
     "text": [
      "maximum separation between triggers for all simulated shallow-field objects:  14.0\n",
      "maximum separation between triggers for all simulated deep-field objects:  16.0\n"
     ]
    }
   ],
   "source": [
    "plt.figure();\n",
    "plt.hist(dict1['sim_shallow']['nitediff'][dict1['sim_shallow']['nitediff'] >0],color='r',alpha = 0.5,bins=50,range = (0,200));\n",
    "plt.hist(dict1['data_shallow']['nitediff'][dict1['data_shallow']['nitediff'] >0],color='b',alpha = 0.5,bins=50,range = (0,200));\n",
    "plt.xlabel('max trigger separation (nights)')\n",
    "plt.title('shallow fields maximum separation of trigger nights')\n",
    "plt.legend(['sims','real data']);\n",
    "plt.figure();\n",
    "plt.hist(dict1['sim_deep']['nitediff'][dict1['sim_deep']['nitediff'] >0],color='r',alpha = 0.5,bins=50,range = (0,200));\n",
    "plt.hist(dict1['data_deep']['nitediff'][dict1['data_deep']['nitediff'] >0],color='b',alpha = 0.5,bins=50,range = (0,200));\n",
    "plt.title('deep fields maximum separation of trigger nights')\n",
    "plt.xlabel('max trigger separation (nights)')\n",
    "plt.legend(['sims','real data']);\n",
    "maxsimtrigsep_shallow = np.max(dict1['sim_shallow']['nitediff'][dict1['sim_shallow']['nitediff'] >0])\n",
    "maxsimtrigsep_deep = np.max(dict1['sim_deep']['nitediff'][dict1['sim_deep']['nitediff'] >0])\n",
    "print 'maximum separation between triggers for all simulated shallow-field objects: ',maxsimtrigsep_shallow\n",
    "print 'maximum separation between triggers for all simulated deep-field objects: ',maxsimtrigsep_deep"
   ]
  },
  {
   "cell_type": "markdown",
   "metadata": {},
   "source": [
    "Of the KN that were simulated, the maximum time seen between triggers for a KN is 16 days.  So let's cut everything that has triggers spaced by over 20 days."
   ]
  },
  {
   "cell_type": "code",
   "execution_count": 9,
   "metadata": {
    "collapsed": true
   },
   "outputs": [],
   "source": [
    "for f,filetype in enumerate(filetypes):  \n",
    "    for n,fieldtype in enumerate(fieldtypes):\n",
    "        multitrig = np.zeros(len(dict1[filetype+'_'+fieldtype]['cnites']),dtype = 'bool')\n",
    "        for i in range(0,len(dict1[filetype+'_'+fieldtype]['cnites'])):\n",
    "            multitrig[i] = dict1[filetype+'_'+fieldtype]['nitediff'][i] <= 20\n",
    "        dict1[filetype+'_'+fieldtype]['multitrig'] = multitrig"
   ]
  },
  {
   "cell_type": "markdown",
   "metadata": {},
   "source": [
    "Now let's plot our colors with the cut:"
   ]
  },
  {
   "cell_type": "code",
   "execution_count": 10,
   "metadata": {
    "collapsed": false
   },
   "outputs": [
    {
     "name": "stdout",
     "output_type": "stream",
     "text": [
      "sim shallow\n",
      "number of objects:  1001\n",
      "number of triggers:  679\n",
      "number of detections:  197\n",
      "sim deep\n",
      "number of objects:  1001\n",
      "number of triggers:  307\n",
      "number of detections:  43\n",
      "data shallow\n",
      "number of objects:  3637\n",
      "number of triggers:  411\n",
      "number of detections:  122\n",
      "data deep\n",
      "number of objects:  3637\n",
      "number of triggers:  146\n",
      "number of detections:  0\n"
     ]
    }
   ],
   "source": [
    "plt.figure();\n",
    "sim_deep_colors = dict1['sim_deep']['colors'][dict1['sim_deep']['trigs'].astype('bool') & \n",
    "                                              (~dict1['sim_deep']['photoZcutsel']) & \n",
    "                                              dict1['sim_deep']['multitrig']]\n",
    "data_deep_colors = dict1['data_deep']['colors'][dict1['data_deep']['trigs'].astype('bool') & \n",
    "                                                (~dict1['data_deep']['photoZcutsel']) & \n",
    "                                                dict1['data_deep']['multitrig']]\n",
    "sim_shallow_colors = dict1['sim_shallow']['colors'][dict1['sim_shallow']['trigs'].astype('bool') & \n",
    "                                               (~dict1['sim_shallow']['photoZcutsel']) & \n",
    "                                               dict1['sim_shallow']['multitrig']]\n",
    "data_shallow_colors = dict1['data_shallow']['colors'][dict1['data_shallow']['trigs'].astype('bool') & \n",
    "                                                     (~dict1['data_shallow']['photoZcutsel']) & \n",
    "                                                     dict1['data_shallow']['multitrig']]\n",
    "plt.hist(sim_deep_colors,bins=100,alpha=0.3,color='r',range=(-2,5));\n",
    "plt.hist(data_deep_colors,bins=100,alpha=0.3,color='b',range=(-2,5));\n",
    "plt.ylabel('number of triggers')\n",
    "plt.xlabel('i-z color')\n",
    "plt.title('deep fields');\n",
    "plt.legend(['sims','real data']);\n",
    "plt.figure();\n",
    "plt.hist(sim_shallow_colors,bins=100,alpha=0.3,color='r',range=(-2,5));\n",
    "plt.hist(data_shallow_colors,bins=100,alpha=0.3,color='b',range=(-2,5));\n",
    "plt.ylabel('number of triggers')\n",
    "plt.xlabel('i-z color')\n",
    "plt.title('shallow fields');\n",
    "plt.legend(['sims','real data']);\n",
    "for f,filetype in enumerate(filetypes):  \n",
    "    for n,fieldtype in enumerate(fieldtypes):\n",
    "        print filetype, fieldtype\n",
    "        print 'number of objects: ', len(dict1[filetype+'_'+fieldtype]['zbandinfo'])\n",
    "        print 'number of triggers: ', np.sum(dict1[filetype+'_'+fieldtype]['trigs'].astype('bool') & \n",
    "                                             ~dict1[filetype+'_'+fieldtype]['photoZcutsel'] &\n",
    "                                            dict1[filetype+'_'+fieldtype]['multitrig'])\n",
    "        print 'number of detections: ', np.sum(dict1[filetype+'_'+fieldtype]['trigs'].astype('bool') & \n",
    "                                             ~dict1[filetype+'_'+fieldtype]['photoZcutsel'] &\n",
    "                                            dict1[filetype+'_'+fieldtype]['multitrig'] &\n",
    "                                              dict1[filetype+'_'+fieldtype]['detections'])"
   ]
  },
  {
   "cell_type": "markdown",
   "metadata": {},
   "source": [
    "## Follow-Up Cut"
   ]
  },
  {
   "cell_type": "markdown",
   "metadata": {},
   "source": [
    "We usually will require a follow-up observation to a trigger in order for us to use that trigger to identify KN.  So, let's just plot the colors of objects that had the trigger and follow-up observation.  The cuts we used above will still be in effect, so none of the numbers should change from above"
   ]
  },
  {
   "cell_type": "code",
   "execution_count": 43,
   "metadata": {
    "collapsed": false
   },
   "outputs": [
    {
     "name": "stdout",
     "output_type": "stream",
     "text": [
      "sim shallow\n",
      "number of objects:  1001\n",
      "number of triggers:  679\n",
      "number of detections:  592\n",
      "sim deep\n",
      "number of objects:  1001\n",
      "number of triggers:  307\n",
      "number of detections:  252\n",
      "data shallow\n",
      "number of objects:  3637\n",
      "number of triggers:  411\n",
      "number of detections:  352\n",
      "data deep\n",
      "number of objects:  3637\n",
      "number of triggers:  146\n",
      "number of detections:  107\n"
     ]
    }
   ],
   "source": [
    "plt.figure();\n",
    "sim_deep_detect = dict1['sim_deep']['colors'][dict1['sim_deep']['trigs'].astype('bool') & \n",
    "                            (~dict1['sim_deep']['photoZcutsel']) & \n",
    "                            dict1['sim_deep']['multitrig'] & \n",
    "                            dict1['sim_deep']['detections'].astype('bool') ]\n",
    "data_deep_detect = dict1['data_deep']['colors'][dict1['data_deep']['trigs'].astype('bool') & \n",
    "                                                (~dict1['data_deep']['photoZcutsel']) & \n",
    "                                                dict1['data_deep']['multitrig'] & \n",
    "                                                dict1['data_deep']['detections'].astype('bool')]\n",
    "try:\n",
    "    plt.hist(sim_deep_detect,bins=100,alpha=0.3,color='r',range=(-2,5));\n",
    "except ValueError:\n",
    "    pass\n",
    "try:\n",
    "    plt.hist(data_deep_detect,bins=100,alpha=0.3,color='b',range=(-2,5));\n",
    "except ValueError:\n",
    "    pass\n",
    "plt.ylabel('number of triggers')\n",
    "plt.xlabel('i-z color')\n",
    "plt.title('deep fields');\n",
    "plt.legend(['sims','real data']);\n",
    "plt.figure();\n",
    "sim_shallow_detect = dict1['sim_shallow']['colors'][dict1['sim_shallow']['trigs'].astype('bool') & \n",
    "                                                    (~dict1['sim_shallow']['photoZcutsel']) & \n",
    "                                                    dict1['sim_shallow']['multitrig'] & \n",
    "                                                    dict1['sim_shallow']['detections'].astype('bool')]\n",
    "data_shallow_detect = dict1['data_shallow']['colors'][dict1['data_shallow']['trigs'].astype('bool') & \n",
    "                                (~dict1['data_shallow']['photoZcutsel']) & \n",
    "                                dict1['data_shallow']['multitrig'] & \n",
    "                                dict1['data_shallow']['detections'].astype('bool')]\n",
    "try:\n",
    "    plt.hist(sim_shallow_detect,bins=100,alpha=0.3,color='r',range=(-2,5));\n",
    "except ValueError:\n",
    "    pass\n",
    "try:\n",
    "    plt.hist(data_shallow_detect,bins=100,alpha=0.3,color='b',range=(-2,5));\n",
    "except ValueError:\n",
    "    pass\n",
    "plt.ylabel('number of triggers')\n",
    "plt.xlabel('i-z color')\n",
    "plt.title('shallow fields');\n",
    "plt.legend(['sims','real data']);\n",
    "for f,filetype in enumerate(filetypes):  \n",
    "    for n,fieldtype in enumerate(fieldtypes):\n",
    "        print filetype, fieldtype\n",
    "        print 'number of objects: ', len(dict1[filetype+'_'+fieldtype]['zbandinfo'])\n",
    "        print 'number of triggers: ', np.sum(dict1[filetype+'_'+fieldtype]['trigs'].astype('bool') & \n",
    "                                             ~dict1[filetype+'_'+fieldtype]['photoZcutsel'] &\n",
    "                                            dict1[filetype+'_'+fieldtype]['multitrig'])\n",
    "        print 'number of detections: ', np.sum(dict1[filetype+'_'+fieldtype]['trigs'].astype('bool') & \n",
    "                                             ~dict1[filetype+'_'+fieldtype]['photoZcutsel'] &\n",
    "                                            dict1[filetype+'_'+fieldtype]['multitrig'] &\n",
    "                                              dict1[filetype+'_'+fieldtype]['detections'])"
   ]
  },
  {
   "cell_type": "markdown",
   "metadata": {},
   "source": [
    "## Refined Follow-Up Cut"
   ]
  },
  {
   "cell_type": "markdown",
   "metadata": {},
   "source": [
    "The \"detections\" we have been quoting above all required a follow-up observation exactly 7 days after a trigger observation.  This is too strong a restriction.  We really need a follow-up only between 3 and 10 days after a trigger.  Specifically, we need at least one i observation within 3-10 days after the trigger and at least one z observation within 3-10 days after the trigger. First we set our detection booleans according to this looser constraint:"
   ]
  },
  {
   "cell_type": "code",
   "execution_count": 45,
   "metadata": {
    "collapsed": true
   },
   "outputs": [],
   "source": [
    "for f,filetype in enumerate(filetypes):  \n",
    "    for n,fieldtype in enumerate(fieldtypes):\n",
    "        dict1[filetype+'_'+fieldtype]['detections'] = des_utils.get_detection_flags_list(dict1[filetype+'_'+fieldtype]['cnites'],\n",
    "                                                                                         dict1[filetype+'_'+fieldtype]['zbandinfo'],\n",
    "                                                                                         dict1[filetype+'_'+fieldtype]['ibandinfo'],\n",
    "                                                                                        3,10,1)"
   ]
  },
  {
   "cell_type": "markdown",
   "metadata": {},
   "source": [
    "Now we'll plot the trigger color histograms of detected objects just like above.  Note that the photoZ cut is still in effect:"
   ]
  },
  {
   "cell_type": "code",
   "execution_count": 52,
   "metadata": {
    "collapsed": false
   },
   "outputs": [
    {
     "name": "stdout",
     "output_type": "stream",
     "text": [
      "sim shallow\n",
      "number of objects:  1001\n",
      "number of triggers:  679\n",
      "number of detections:  607\n",
      "sim deep\n",
      "number of objects:  1001\n",
      "number of triggers:  307\n",
      "number of detections:  268\n",
      "data shallow\n",
      "number of objects:  3637\n",
      "number of triggers:  411\n",
      "number of detections:  365\n",
      "data deep\n",
      "number of objects:  3637\n",
      "number of triggers:  146\n",
      "number of detections:  133\n"
     ]
    }
   ],
   "source": [
    "plt.figure();\n",
    "sim_deep_detect = dict1['sim_deep']['colors'][dict1['sim_deep']['trigs'].astype('bool') & \n",
    "                            (~dict1['sim_deep']['photoZcutsel']) & \n",
    "                            dict1['sim_deep']['multitrig'] & \n",
    "                            dict1['sim_deep']['detections'].astype('bool') ]\n",
    "data_deep_detect = dict1['data_deep']['colors'][dict1['data_deep']['trigs'].astype('bool') & \n",
    "                                                (~dict1['data_deep']['photoZcutsel']) & \n",
    "                                                dict1['data_deep']['multitrig'] & \n",
    "                                                dict1['data_deep']['detections'].astype('bool')]\n",
    "try:\n",
    "    plt.hist(sim_deep_detect,bins=100,alpha=0.3,color='r',range=(-2,5));\n",
    "except ValueError:\n",
    "    pass\n",
    "try:\n",
    "    plt.hist(data_deep_detect,bins=100,alpha=0.3,color='b',range=(-2,5));\n",
    "except ValueError:\n",
    "    pass\n",
    "plt.ylabel('number of triggers')\n",
    "plt.xlabel('i-z color')\n",
    "plt.title('deep fields');\n",
    "plt.legend(['sims','real data']);\n",
    "plt.figure();\n",
    "sim_shallow_detect = dict1['sim_shallow']['colors'][dict1['sim_shallow']['trigs'].astype('bool') & \n",
    "                                                    (~dict1['sim_shallow']['photoZcutsel']) & \n",
    "                                                    dict1['sim_shallow']['multitrig'] & \n",
    "                                                    dict1['sim_shallow']['detections'].astype('bool')]\n",
    "data_shallow_detect = dict1['data_shallow']['colors'][dict1['data_shallow']['trigs'].astype('bool') & \n",
    "                                (~dict1['data_shallow']['photoZcutsel']) & \n",
    "                                dict1['data_shallow']['multitrig'] & \n",
    "                                dict1['data_shallow']['detections'].astype('bool')]\n",
    "try:\n",
    "    plt.hist(sim_shallow_detect,bins=100,alpha=0.3,color='r',range=(-2,5));\n",
    "except ValueError:\n",
    "    pass\n",
    "try:\n",
    "    plt.hist(data_shallow_detect,bins=100,alpha=0.3,color='b',range=(-2,5));\n",
    "except ValueError:\n",
    "    pass\n",
    "plt.ylabel('number of triggers')\n",
    "plt.xlabel('i-z color')\n",
    "plt.title('shallow fields');\n",
    "plt.legend(['sims','real data']);\n",
    "for f,filetype in enumerate(filetypes):  \n",
    "    for n,fieldtype in enumerate(fieldtypes):\n",
    "        print filetype, fieldtype\n",
    "        print 'number of objects: ', len(dict1[filetype+'_'+fieldtype]['zbandinfo'])\n",
    "        print 'number of triggers: ', np.sum(dict1[filetype+'_'+fieldtype]['trigs'].astype('bool') & \n",
    "                                             ~dict1[filetype+'_'+fieldtype]['photoZcutsel'] &\n",
    "                                            dict1[filetype+'_'+fieldtype]['multitrig'])\n",
    "        print 'number of detections: ', np.sum(dict1[filetype+'_'+fieldtype]['trigs'].astype('bool') & \n",
    "                                             ~dict1[filetype+'_'+fieldtype]['photoZcutsel'] &\n",
    "                                            dict1[filetype+'_'+fieldtype]['multitrig'] &\n",
    "                                              dict1[filetype+'_'+fieldtype]['detections'])\n",
    "plt.show()"
   ]
  },
  {
   "cell_type": "markdown",
   "metadata": {},
   "source": [
    "## Color-timescale scatter plots"
   ]
  },
  {
   "cell_type": "markdown",
   "metadata": {},
   "source": [
    "If an object has multiple triggers, we want to plot the i-z color of the first trigger versus the maximum time separation between triggers."
   ]
  },
  {
   "cell_type": "code",
   "execution_count": 53,
   "metadata": {
    "collapsed": false
   },
   "outputs": [],
   "source": [
    "plt.figure();\n",
    "sim_deep_colors = dict1['sim_deep']['colors'][dict1['sim_deep']['trigs'].astype('bool') & \n",
    "                                              (~dict1['sim_deep']['photoZcutsel']) & \n",
    "                                              (dict1['sim_deep']['nitediff']>0)]\n",
    "data_deep_colors = dict1['data_deep']['colors'][dict1['data_deep']['trigs'].astype('bool') & \n",
    "                                                (~dict1['data_deep']['photoZcutsel']) & \n",
    "                                                (dict1['data_deep']['nitediff']>0)]\n",
    "sim_shallow_colors = dict1['sim_shallow']['colors'][dict1['sim_shallow']['trigs'].astype('bool') & \n",
    "                                               (~dict1['sim_shallow']['photoZcutsel']) & \n",
    "                                               (dict1['sim_shallow']['nitediff']>0)]\n",
    "data_shallow_colors = dict1['data_shallow']['colors'][dict1['data_shallow']['trigs'].astype('bool') & \n",
    "                                                     (~dict1['data_shallow']['photoZcutsel']) & \n",
    "                                                    (dict1['data_shallow']['nitediff']>0)]\n",
    "sim_deep_times = dict1['sim_deep']['nitediff'][dict1['sim_deep']['trigs'].astype('bool') & \n",
    "                                              (~dict1['sim_deep']['photoZcutsel']) & \n",
    "                                              (dict1['sim_deep']['nitediff']>0)]\n",
    "data_deep_times = dict1['data_deep']['nitediff'][dict1['data_deep']['trigs'].astype('bool') & \n",
    "                                                (~dict1['data_deep']['photoZcutsel']) & \n",
    "                                                (dict1['data_deep']['nitediff']>0)]\n",
    "sim_shallow_times = dict1['sim_shallow']['nitediff'][dict1['sim_shallow']['trigs'].astype('bool') & \n",
    "                                               (~dict1['sim_shallow']['photoZcutsel']) & \n",
    "                                               (dict1['sim_shallow']['nitediff']>0)]\n",
    "data_shallow_times = dict1['data_shallow']['nitediff'][dict1['data_shallow']['trigs'].astype('bool') & \n",
    "                                                     (~dict1['data_shallow']['photoZcutsel']) & \n",
    "                                                     (dict1['data_shallow']['nitediff']>0)]\n",
    "\n",
    "alpha=0.2\n",
    "plt.scatter(sim_deep_colors,sim_deep_times,color='r', alpha=alpha);\n",
    "plt.scatter(data_deep_colors,data_deep_times,color='b', alpha=alpha);\n",
    "plt.title('deep field timescale versus color')\n",
    "plt.xlabel('first trigger i-z color')\n",
    "plt.ylabel('effective transient timescale (days)')\n",
    "plt.legend(['sims','real'])\n",
    "plt.figure();\n",
    "plt.scatter(sim_shallow_colors,sim_shallow_times,color='r', alpha=alpha);\n",
    "plt.scatter(data_shallow_colors,data_shallow_times,color='b', alpha=alpha);\n",
    "plt.title('shallow field timescale versus color')\n",
    "plt.xlabel('first trigger i-z color')\n",
    "plt.ylabel('effective transient timescale (days)')\n",
    "plt.legend(['sims','real'])\n",
    "plt.show()"
   ]
  },
  {
   "cell_type": "markdown",
   "metadata": {},
   "source": [
    "Now to refine this further.  In the above plots, we've only looked at things that trigger multiple times.  Let's look at things that trigger multiple times and have detections.  We'll start by finding the upper bound on the transient timescale.  A naive way to do this is look for the time between the first trigger and the first follow-up observation to the last trigger.  So if an object triggers on day 0 and then on day 10 and then has a follow up observation on day 12, then the upper bound on the transient timescale is 12 days.  Let's plot these upper bounds along with the object's first-trigger color."
   ]
  },
  {
   "cell_type": "code",
   "execution_count": 34,
   "metadata": {
    "collapsed": false
   },
   "outputs": [],
   "source": [
    "reload(des_utils)\n",
    "for f,filetype in enumerate(filetypes):  \n",
    "    for n,fieldtype in enumerate(fieldtypes):\n",
    "        zdetflux,zdetMJD,zdetflags = des_utils.get_detection_info(dict1[filetype+'_'+fieldtype]['cnites'],\n",
    "                                                dict1[filetype+'_'+fieldtype]['zbandinfo'],\n",
    "                                                3,10,1)\n",
    "        idetflux,idetMJD,idetflags = des_utils.get_detection_info(dict1[filetype+'_'+fieldtype]['cnites'],\n",
    "                                                dict1[filetype+'_'+fieldtype]['ibandinfo'],\n",
    "                                                3,10,1)\n",
    "        dict1[filetype+'_'+fieldtype]['zdetflux'] = zdetflux\n",
    "        dict1[filetype+'_'+fieldtype]['zdetMJD'] = zdetMJD\n",
    "        dict1[filetype+'_'+fieldtype]['zdetflags'] = zdetflags\n",
    "        dict1[filetype+'_'+fieldtype]['idetflux'] = idetflux\n",
    "        dict1[filetype+'_'+fieldtype]['idetMJD'] = idetMJD\n",
    "        dict1[filetype+'_'+fieldtype]['idetflags'] = idetflags\n",
    "        dict1[filetype+'_'+fieldtype]['detections'] = idetflags & zdetflags"
   ]
  },
  {
   "cell_type": "code",
   "execution_count": 35,
   "metadata": {
    "collapsed": false
   },
   "outputs": [],
   "source": [
    "cols = ['r','b']\n",
    "titles = ['shallow field event timescale versus trigger color', 'deep field event timescale versus trigger color']\n",
    "for n,fieldtype in enumerate(fieldtypes):\n",
    "    plt.figure();\n",
    "    for f,filetype in enumerate(filetypes):  \n",
    "        color = dict1[filetype+'_'+fieldtype]['colors'][dict1[filetype+'_'+fieldtype]['trigs'] &\n",
    "                                                        (~dict1[filetype+'_'+fieldtype]['photoZcutsel']) &\n",
    "                                                            dict1[filetype+'_'+fieldtype]['detections']]\n",
    "        itime = dict1[filetype+'_'+fieldtype]['idetMJD'][dict1[filetype+'_'+fieldtype]['trigs'] &\n",
    "                                                         (~dict1[filetype+'_'+fieldtype]['photoZcutsel']) &\n",
    "                                                            dict1[filetype+'_'+fieldtype]['detections']]\n",
    "        ztime = dict1[filetype+'_'+fieldtype]['zdetMJD'][dict1[filetype+'_'+fieldtype]['trigs'] &\n",
    "                                                         (~dict1[filetype+'_'+fieldtype]['photoZcutsel']) &\n",
    "                                                            dict1[filetype+'_'+fieldtype]['detections']]\n",
    "        trigtimes = dict1[filetype+'_'+fieldtype]['cnites'][dict1[filetype+'_'+fieldtype]['trigs'] &\n",
    "                                                            (~dict1[filetype+'_'+fieldtype]['photoZcutsel']) &\n",
    "                                                            dict1[filetype+'_'+fieldtype]['detections']]\n",
    "        trignite = np.empty(len(trigtimes))\n",
    "        for i in range(0,len(trignite)):\n",
    "            trignite[i] = trigtimes[i][0]\n",
    "        time = ztime - trignite\n",
    "        plt.scatter(color,time,color=cols[f],alpha=0.3)\n",
    "    plt.legend(['sims','real']);\n",
    "    plt.title(titles[n])\n",
    "    plt.xlabel('i-z color')\n",
    "    plt.ylabel('timescale upper bound (days)')\n",
    "                                                              "
   ]
  },
  {
   "cell_type": "markdown",
   "metadata": {},
   "source": [
    "We can go one step further and show the lower and upper bounds for the timescale.  The lower bound is zero for objects that just triggered once and then had a follow-up observation.  For objects that triggered multiple times, the lower bound is the time between the first and last triggers."
   ]
  },
  {
   "cell_type": "code",
   "execution_count": 36,
   "metadata": {
    "collapsed": false
   },
   "outputs": [],
   "source": [
    "cols = ['r','b']\n",
    "titles = ['shallow field event timescale versus trigger color', 'deep field event timescale versus trigger color']\n",
    "for n,fieldtype in enumerate(fieldtypes):\n",
    "    plt.figure();\n",
    "    for f,filetype in enumerate(filetypes):  \n",
    "        color = dict1[filetype+'_'+fieldtype]['colors'][dict1[filetype+'_'+fieldtype]['trigs'] &\n",
    "                                                        (~dict1[filetype+'_'+fieldtype]['photoZcutsel']) &\n",
    "                                                            dict1[filetype+'_'+fieldtype]['detections']]\n",
    "        itime = dict1[filetype+'_'+fieldtype]['idetMJD'][dict1[filetype+'_'+fieldtype]['trigs'] &\n",
    "                                                         (~dict1[filetype+'_'+fieldtype]['photoZcutsel']) &\n",
    "                                                            dict1[filetype+'_'+fieldtype]['detections']]\n",
    "        ztime = dict1[filetype+'_'+fieldtype]['zdetMJD'][dict1[filetype+'_'+fieldtype]['trigs'] &\n",
    "                                                         (~dict1[filetype+'_'+fieldtype]['photoZcutsel']) &\n",
    "                                                            dict1[filetype+'_'+fieldtype]['detections']]\n",
    "        trigtimes = dict1[filetype+'_'+fieldtype]['cnites'][dict1[filetype+'_'+fieldtype]['trigs'] &\n",
    "                                                            (~dict1[filetype+'_'+fieldtype]['photoZcutsel']) &\n",
    "                                                            dict1[filetype+'_'+fieldtype]['detections']]\n",
    "        trignite = np.empty(len(trigtimes))\n",
    "        trig2 = np.empty(len(trigtimes))\n",
    "        for i in range(0,len(trignite)):\n",
    "            trignite[i] = trigtimes[i][0]\n",
    "            trig2[i] = trigtimes[i][-1]\n",
    "        mintime = trig2 - trignite\n",
    "        maxtime = ztime - trignite\n",
    "        times = [-mintime,maxtime]\n",
    "        plt.errorbar(color,np.zeros(len(color)),times,color=cols[f],alpha=0.3)\n",
    "    plt.legend(['sims','real']);\n",
    "    plt.title(titles[n])\n",
    "    plt.xlabel('i-z color')\n",
    "    plt.ylabel('timescale upper bound (days)')\n",
    "       "
   ]
  },
  {
   "cell_type": "markdown",
   "metadata": {},
   "source": [
    "# Trigger vs. Follow-Up Color"
   ]
  },
  {
   "cell_type": "markdown",
   "metadata": {},
   "source": [
    "We want to plot the color of the trigger versus the color of the follow-up.  The follow-up fluxes can be negative, which will not allow us to get color magnitudes, so we want to pass over everything with a negative flux follow-up."
   ]
  },
  {
   "cell_type": "code",
   "execution_count": 55,
   "metadata": {
    "collapsed": false
   },
   "outputs": [
    {
     "name": "stdout",
     "output_type": "stream",
     "text": [
      "607 607\n",
      "365 365\n",
      "268 268\n",
      "133 133\n"
     ]
    },
    {
     "name": "stderr",
     "output_type": "stream",
     "text": [
      "/usr/local/lib/python2.7/site-packages/IPython/kernel/__main__.py:19: RuntimeWarning: invalid value encountered in greater\n",
      "/usr/local/lib/python2.7/site-packages/IPython/kernel/__main__.py:20: RuntimeWarning: invalid value encountered in greater\n",
      "/usr/local/lib/python2.7/site-packages/IPython/kernel/__main__.py:21: RuntimeWarning: invalid value encountered in greater\n"
     ]
    }
   ],
   "source": [
    "cols = ['r','b']\n",
    "titles = ['shallow follow-up color versus trigger color', 'deep follow-up color versus trigger color']\n",
    "for n,fieldtype in enumerate(fieldtypes):\n",
    "    plt.figure();\n",
    "    for f,filetype in enumerate(filetypes):\n",
    "        trigcolors = dict1[filetype+'_'+fieldtype]['colors'][dict1[filetype+'_'+fieldtype]['trigs'] &\n",
    "                                                        (~dict1[filetype+'_'+fieldtype]['photoZcutsel']) &\n",
    "                                                            dict1[filetype+'_'+fieldtype]['detections'] &\n",
    "                                                            dict1[filetype+'_'+fieldtype]['multitrig']]\n",
    "        idetflux1 = dict1[filetype+'_'+fieldtype]['idetflux'][dict1[filetype+'_'+fieldtype]['trigs'] &\n",
    "                                                        (~dict1[filetype+'_'+fieldtype]['photoZcutsel']) &\n",
    "                                                            dict1[filetype+'_'+fieldtype]['detections'] &\n",
    "                                                            dict1[filetype+'_'+fieldtype]['multitrig']]\n",
    "        zdetflux1 = dict1[filetype+'_'+fieldtype]['zdetflux'][dict1[filetype+'_'+fieldtype]['trigs'] &\n",
    "                                                        (~dict1[filetype+'_'+fieldtype]['photoZcutsel']) &\n",
    "                                                            dict1[filetype+'_'+fieldtype]['detections'] &\n",
    "                                                            dict1[filetype+'_'+fieldtype]['multitrig']]\n",
    "        print len(idetflux1), len(zdetflux1)\n",
    "        trigcolors = trigcolors[(idetflux1 > 0) & (zdetflux1 > 0)]\n",
    "        idetflux2 = idetflux1[(idetflux1 > 0) & (zdetflux1 > 0)]\n",
    "        zdetflux2 = zdetflux1[(idetflux1 > 0) & (zdetflux1 > 0)]\n",
    "        followupcolor = -2.5*np.log(idetflux2) + 2.5*np.log(zdetflux2)\n",
    "        plt.scatter(trigcolors,followupcolor,color=cols[f],alpha=0.1)\n",
    "    plt.title(titles[n])\n",
    "    plt.legend(['sims','real']);\n",
    "    plt.xlabel('trigger i-z color')\n",
    "    plt.ylabel('follow-up i-z color')\n",
    "plt.show()"
   ]
  },
  {
   "cell_type": "markdown",
   "metadata": {
    "collapsed": false
   },
   "source": [
    "## Now in 3D!"
   ]
  },
  {
   "cell_type": "code",
   "execution_count": 38,
   "metadata": {
    "collapsed": true
   },
   "outputs": [],
   "source": [
    "from mpl_toolkits.mplot3d import Axes3D"
   ]
  },
  {
   "cell_type": "code",
   "execution_count": 56,
   "metadata": {
    "collapsed": false
   },
   "outputs": [
    {
     "name": "stdout",
     "output_type": "stream",
     "text": [
      "(268, 268, 268)\n"
     ]
    },
    {
     "name": "stderr",
     "output_type": "stream",
     "text": [
      "/usr/local/lib/python2.7/site-packages/IPython/kernel/__main__.py:53: RuntimeWarning: invalid value encountered in log\n",
      "/usr/local/lib/python2.7/site-packages/IPython/kernel/__main__.py:54: RuntimeWarning: invalid value encountered in log\n",
      "/usr/local/lib/python2.7/site-packages/IPython/kernel/__main__.py:55: RuntimeWarning: invalid value encountered in log\n",
      "/usr/local/lib/python2.7/site-packages/IPython/kernel/__main__.py:56: RuntimeWarning: divide by zero encountered in log\n",
      "/usr/local/lib/python2.7/site-packages/IPython/kernel/__main__.py:56: RuntimeWarning: invalid value encountered in log\n"
     ]
    },
    {
     "data": {
      "text/plain": [
       "<matplotlib.legend.Legend at 0x1214cc9d0>"
      ]
     },
     "execution_count": 56,
     "metadata": {},
     "output_type": "execute_result"
    }
   ],
   "source": [
    "fig = plt.figure(figsize=(12, 4))\n",
    "ax1 = plt.subplot(121, projection='3d')\n",
    "ax2 = plt.subplot(122, projection='3d')\n",
    "\n",
    "sim_deep_sel = dict1['sim_deep']['trigs'] & (~dict1['sim_deep']['photoZcutsel']) & dict1['sim_deep']['detections'] & dict1['sim_deep']['multitrig']\n",
    "data_deep_sel = dict1['data_deep']['trigs'] & (~dict1['data_deep']['photoZcutsel']) & dict1['data_deep']['detections'] & dict1['data_deep']['multitrig']\n",
    "sim_shallow_sel = dict1['sim_shallow']['trigs'] & (~dict1['sim_shallow']['photoZcutsel']) & dict1['sim_shallow']['detections'] & dict1['sim_shallow']['multitrig']\n",
    "data_shallow_sel = dict1['data_shallow']['trigs'] & (~dict1['data_shallow']['photoZcutsel']) & dict1['data_shallow']['detections'] & dict1['data_shallow']['multitrig']\n",
    "\n",
    "\n",
    "sim_deep_colors = dict1['sim_deep']['colors'][sim_deep_sel]\n",
    "\n",
    "data_deep_colors = dict1['data_deep']['colors'][data_deep_sel]\n",
    "\n",
    "sim_shallow_colors = dict1['sim_shallow']['colors'][sim_shallow_sel]\n",
    "\n",
    "data_shallow_colors = dict1['data_shallow']['colors'][data_shallow_sel]\n",
    "\n",
    "sim_deep_times = dict1['sim_deep']['nitediff'][sim_deep_sel]\n",
    "\n",
    "data_deep_times = dict1['data_deep']['nitediff'][data_deep_sel]\n",
    "\n",
    "sim_shallow_times = dict1['sim_shallow']['nitediff'][sim_shallow_sel]\n",
    "\n",
    "data_shallow_times = dict1['data_shallow']['nitediff'][data_shallow_sel]\n",
    "\n",
    "sim_deep_idetflux = dict1['sim_deep']['idetflux'][sim_deep_sel]\n",
    "\n",
    "data_deep_idetflux = dict1['data_deep']['idetflux'][data_deep_sel]\n",
    "\n",
    "sim_shallow_idetflux = dict1['sim_shallow']['idetflux'][sim_shallow_sel]\n",
    "\n",
    "data_shallow_idetflux = dict1['data_shallow']['idetflux'][data_shallow_sel]\n",
    "\n",
    "sim_deep_zdetflux = dict1['sim_deep']['zdetflux'][sim_deep_sel]\n",
    "\n",
    "data_deep_zdetflux = dict1['data_deep']['zdetflux'][data_deep_sel]\n",
    "\n",
    "sim_shallow_zdetflux = dict1['sim_shallow']['zdetflux'][sim_shallow_sel]\n",
    "\n",
    "data_shallow_zdetflux = dict1['data_shallow']['zdetflux'][data_shallow_sel]\n",
    "\n",
    "# sim_deep_idetflux2 = sim_deep_idetflux1[(sim_deep_idetflux1 > 0) & (sim_deep_zdetflux1 > 0)]\n",
    "# data_deep_idetflux2 = data_deep_idetflux1[(data_deep_idetflux1 > 0) & (data_deep_zdetflux1 > 0)]\n",
    "# sim_shallow_idetflux2 = sim_shallow_idetflux1[(sim_shallow_idetflux1 > 0) & (sim_shallow_zdetflux1 > 0)]\n",
    "# data_shallow_idetflux2 = data_shallow_idetflux1[(data_shallow_idetflux1 > 0) & (data_shallow_zdetflux1 > 0)]\n",
    "\n",
    "# sim_deep_zdetflux2 = sim_deep_zdetflux1[(sim_deep_idetflux1 > 0) & (sim_deep_zdetflux1 > 0)]\n",
    "# data_deep_zdetflux2 = data_deep_zdetflux1[(data_deep_idetflux1 > 0) & (data_deep_zdetflux1 > 0)]\n",
    "# sim_shallow_zdetflux2 = sim_shallow_zdetflux1[(sim_shallow_idetflux1 > 0) & (sim_shallow_zdetflux1 > 0)]\n",
    "# data_shallow_zdetflux2 = data_shallow_zdetflux1[(data_shallow_idetflux1 > 0) & (data_shallow_zdetflux1 > 0)]\n",
    "\n",
    "sim_deep_followupcolor = -2.5*np.log(sim_deep_idetflux) + 2.5*np.log(sim_deep_zdetflux)\n",
    "data_deep_followupcolor = -2.5*np.log(data_deep_idetflux) + 2.5*np.log(data_deep_zdetflux)\n",
    "sim_shallow_followupcolor = -2.5*np.log(sim_shallow_idetflux) + 2.5*np.log(sim_shallow_zdetflux)\n",
    "data_shallow_followupcolor = -2.5*np.log(data_shallow_idetflux) + 2.5*np.log(data_shallow_zdetflux)\n",
    "\n",
    "alpha=0.3\n",
    "ax1.scatter(sim_deep_colors, sim_deep_times, sim_deep_followupcolor, color='r', alpha=alpha);\n",
    "ax1.scatter(data_deep_colors, data_deep_times, data_deep_followupcolor, color='b', alpha=alpha);\n",
    "ax2.scatter(sim_shallow_colors, sim_shallow_times, sim_shallow_followupcolor, color='r', alpha=alpha);\n",
    "ax2.scatter(data_shallow_colors, data_shallow_times, data_shallow_followupcolor, color='b', alpha=alpha);\n",
    "\n",
    "ax1.set_title('deep field')\n",
    "ax1.set_xlabel('first trigger i-z color')\n",
    "ax1.set_ylabel('effective transient timescale (days)')\n",
    "ax1.set_zlabel('follow-up i-z color')\n",
    "ax1.legend(['sims','real'])\n",
    "\n",
    "ax2.set_title('shallow field')\n",
    "ax2.set_xlabel('first trigger i-z color')\n",
    "ax2.set_ylabel('effective transient timescale (days)')\n",
    "ax2.set_zlabel('follow-up i-z color')\n",
    "ax2.legend(['sims','real'])"
   ]
  },
  {
   "cell_type": "code",
   "execution_count": 57,
   "metadata": {
    "collapsed": true
   },
   "outputs": [],
   "source": [
    "plt.show()"
   ]
  },
  {
   "cell_type": "code",
   "execution_count": 139,
   "metadata": {
    "collapsed": false
   },
   "outputs": [],
   "source": [
    "event_id = np.arange(len(data_deep_colors))[data_deep_colors > 2.][0]"
   ]
  },
  {
   "cell_type": "code",
   "execution_count": 140,
   "metadata": {
    "collapsed": false
   },
   "outputs": [
    {
     "name": "stdout",
     "output_type": "stream",
     "text": [
      "69\n"
     ]
    }
   ],
   "source": [
    "print event_id"
   ]
  },
  {
   "cell_type": "code",
   "execution_count": 141,
   "metadata": {
    "collapsed": false
   },
   "outputs": [
    {
     "name": "stdout",
     "output_type": "stream",
     "text": [
      "1177553\n",
      "[ 56576.  56579.  56682.]\n",
      "('53.531058', '-28.315901')\n"
     ]
    }
   ],
   "source": [
    "header = [el for i, el in enumerate(dict1['data_deep']['headers']) if data_deep_sel[i]][event_id]\n",
    "trignites = dict1['data_deep']['cnites'][event_id]\n",
    "print header['PRIVATE(DES_snid)']\n",
    "print trignites\n",
    "trignite = trignites[0]\n",
    "print(header['RA'], header['DECL'])"
   ]
  },
  {
   "cell_type": "code",
   "execution_count": 142,
   "metadata": {
    "collapsed": false
   },
   "outputs": [],
   "source": [
    "this_event = event_id\n",
    "\n",
    "cut = 100.\n",
    "\n",
    "mjd = dict1['data_deep']['zbandinfo'][this_event][1]\n",
    "ztimes = mjd\n",
    "zsel = ztimes < trignite + cut\n",
    "ztimes = ztimes[zsel]\n",
    "zflux = dict1['data_deep']['zbandinfo'][this_event][2][zsel]\n",
    "\n",
    "mjd = dict1['data_deep']['ibandinfo'][this_event][1]\n",
    "itimes = mjd\n",
    "isel = itimes < trignite + cut\n",
    "itimes = itimes[isel]\n",
    "iflux = dict1['data_deep']['ibandinfo'][this_event][2][isel]\n",
    "\n",
    "plt.plot(ztimes, zflux, label='Z')\n",
    "plt.plot(itimes, iflux, label='I')\n",
    "plt.axvline(trignite)\n",
    "plt.axvline(trignite-1)\n",
    "plt.legend()\n",
    "plt.gca().set_yscale('log')\n",
    "plt.show()"
   ]
  },
  {
   "cell_type": "code",
   "execution_count": null,
   "metadata": {
    "collapsed": true
   },
   "outputs": [],
   "source": []
  }
 ],
 "metadata": {
  "kernelspec": {
   "display_name": "Python 2",
   "language": "python",
   "name": "python2"
  },
  "language_info": {
   "codemirror_mode": {
    "name": "ipython",
    "version": 2
   },
   "file_extension": ".py",
   "mimetype": "text/x-python",
   "name": "python",
   "nbconvert_exporter": "python",
   "pygments_lexer": "ipython2",
   "version": "2.7.10"
  }
 },
 "nbformat": 4,
 "nbformat_minor": 0
}
